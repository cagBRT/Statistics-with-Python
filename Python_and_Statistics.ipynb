{
  "nbformat": 4,
  "nbformat_minor": 0,
  "metadata": {
    "colab": {
      "private_outputs": true,
      "provenance": [],
      "authorship_tag": "ABX9TyOdaGJhQv4FyqoLZtDHnE7i",
      "include_colab_link": true
    },
    "kernelspec": {
      "name": "python3",
      "display_name": "Python 3"
    },
    "language_info": {
      "name": "python"
    }
  },
  "cells": [
    {
      "cell_type": "markdown",
      "metadata": {
        "id": "view-in-github",
        "colab_type": "text"
      },
      "source": [
        "<a href=\"https://colab.research.google.com/github/cagBRT/Statistics-with-Python/blob/main/Python_and_Statistics.ipynb\" target=\"_parent\"><img src=\"https://colab.research.google.com/assets/colab-badge.svg\" alt=\"Open In Colab\"/></a>"
      ]
    },
    {
      "cell_type": "code",
      "source": [
        "# Clone the entire repo.\n",
        "!git clone -l -s https://github.com/cagBRT/Statistics-with-Python.git cloned-repo\n",
        "%cd cloned-repo"
      ],
      "metadata": {
        "id": "0KRPWn0KdFsn"
      },
      "execution_count": null,
      "outputs": []
    },
    {
      "cell_type": "code",
      "source": [
        "from IPython.display import Image"
      ],
      "metadata": {
        "id": "-rqJnOtBdVzC"
      },
      "execution_count": null,
      "outputs": []
    },
    {
      "cell_type": "markdown",
      "source": [
        "There are many Python statistics libraries out there for you to work with, but in this tutorial, you’ll be learning about some of the most popular and widely used ones:<br>\n",
        "\n",
        "**Python’s statistics is a built-in Python library for descriptive statistics. You can use it if your datasets are not too large or if you can’t rely on importing other libraries**.<br>\n",
        "\n",
        "**NumPy** is a third-party library for numerical computing, optimized for working with single- and multi-dimensional arrays. Its primary type is the array type called ndarray. This library contains many routines for statistical analysis.<br>\n",
        "\n",
        "**SciPy** is a third-party library for scientific computing based on NumPy. It offers additional functionality compared to NumPy, including scipy.stats for statistical analysis.<br>\n",
        "\n",
        "**pandas** is a third-party library for numerical computing based on NumPy. It excels in handling labeled one-dimensional (1D) data with Series objects and two-dimensional (2D) data with DataFrame objects.<br>\n",
        "\n",
        "**Matplotlib** is a third-party library for data visualization. It works well in combination with NumPy, SciPy, and pandas.<br>"
      ],
      "metadata": {
        "id": "Rj1DLjGTsHZu"
      }
    },
    {
      "cell_type": "markdown",
      "source": [
        "**Import the necessary libraries**\n",
        "<br>\n",
        "The math and statistics libraries are Python built-in statistics<br>"
      ],
      "metadata": {
        "id": "i2lGCmsNsz9j"
      }
    },
    {
      "cell_type": "code",
      "source": [
        "import math\n",
        "import statistics"
      ],
      "metadata": {
        "id": "LHVHAZPasqgy"
      },
      "execution_count": null,
      "outputs": []
    },
    {
      "cell_type": "code",
      "execution_count": null,
      "metadata": {
        "id": "tNaCbT7dsCEk"
      },
      "outputs": [],
      "source": [
        "import numpy as np\n",
        "import pandas as pd\n",
        "import matplotlib as plt\n",
        "import scipy.stats"
      ]
    },
    {
      "cell_type": "markdown",
      "source": [
        "**Create some data**"
      ],
      "metadata": {
        "id": "mJ2nslf6tBmn"
      }
    },
    {
      "cell_type": "code",
      "source": [
        "x = [8.0, 1, 2.5, 4, 28.0]\n",
        "x_with_nan = [8.0, 1, 2.5, math.nan, 4, 28.0]\n",
        "x\n",
        "\n",
        "x_with_nan"
      ],
      "metadata": {
        "id": "56LZw0nEtBzf"
      },
      "execution_count": null,
      "outputs": []
    },
    {
      "cell_type": "markdown",
      "source": [
        "To create a NaN value: <br>\n",
        "\n",
        ">float('nan')<br>\n",
        "math.nan<br>\n",
        "np.nan<br>"
      ],
      "metadata": {
        "id": "PufZD_M1tiZ0"
      }
    },
    {
      "cell_type": "markdown",
      "source": [
        "You can use all of these functions interchangeably:<br>\n",
        "\n",
        "math.isnan(np.nan), np.isnan(math.nan)<br>\n",
        "\n",
        "math.isnan(y_with_nan[3]), np.isnan(y_with_nan[3])<br>\n",
        "\n",
        "You can see that the functions are all equivalent.\n",
        "\n",
        "However, comparing two nan values for equality returns False. <br>\n",
        "\n",
        "In other words, math.nan == math.nan is False!"
      ],
      "metadata": {
        "id": "hA6Sj_VhtyvY"
      }
    },
    {
      "cell_type": "code",
      "source": [
        "y, y_with_nan = np.array(x), np.array(x_with_nan)\n",
        "z, z_with_nan = pd.Series(x), pd.Series(x_with_nan)\n",
        "new_line='\\n'\n",
        "print(f\"y={y}{new_line}\")\n",
        "print(f\"y_with_nan: {y_with_nan}{new_line}\")\n",
        "print(f\"z: {z}{new_line}\")\n",
        "print(f\"z_with_nan: {z_with_nan}\")"
      ],
      "metadata": {
        "id": "sjhfkzq_uAxC"
      },
      "execution_count": null,
      "outputs": []
    },
    {
      "cell_type": "markdown",
      "source": [
        "## Measures of Central Tendency<br>\n",
        "The measures of central tendency show the central or middle values of datasets.\n",
        "\n",
        "There are several definitions of what’s considered to be the center of a dataset. In this notebook, you’ll learn how to identify and calculate these measures of central tendency:\n",
        "\n",
        ">Mean<br>\n",
        "Weighted mean<br>\n",
        "Geometric mean<br>\n",
        "Harmonic mean<br>\n",
        "Median<br>\n",
        "Mode"
      ],
      "metadata": {
        "id": "f1B1ZBs0wdL0"
      }
    },
    {
      "cell_type": "markdown",
      "source": [
        "**Mean**"
      ],
      "metadata": {
        "id": "sNYdpQvPzTsW"
      }
    },
    {
      "cell_type": "markdown",
      "source": [
        "In the code below we use an underscore to distinguish our mean of x from the built-in function mean"
      ],
      "metadata": {
        "id": "QFuAZxlXxIft"
      }
    },
    {
      "cell_type": "code",
      "source": [
        "print(f\"{x}\")\n",
        "mean_ = sum(x) / len(x)\n",
        "print(f\"mean_ {mean_}\")\n",
        "\n",
        "#or\n",
        "mean_x = sum(x) / len(x)\n",
        "print(f\"mean_x {mean_x}\")"
      ],
      "metadata": {
        "id": "gvlZ7mB-ws5S"
      },
      "execution_count": null,
      "outputs": []
    },
    {
      "cell_type": "markdown",
      "source": [
        "Using the built-in mean function<br>\n",
        "fmean() is introduced in Python 3.8 as a faster alternative to mean(). It always returns a floating-point number."
      ],
      "metadata": {
        "id": "3yJBoj3MyIOf"
      }
    },
    {
      "cell_type": "code",
      "source": [
        "mean_ = statistics.mean(x)\n",
        "print(f\"mean_ {mean_}\")\n",
        "\n",
        "fmean_ = statistics.fmean(x)\n",
        "print(f\"mean_{fmean_}\")\n"
      ],
      "metadata": {
        "id": "KSONCHsxyLIz"
      },
      "execution_count": null,
      "outputs": []
    },
    {
      "cell_type": "markdown",
      "source": [
        "If there are nan values among your data, then statistics.mean() and statistics.fmean() will return nan as the output"
      ],
      "metadata": {
        "id": "NPAyRyj6ys9_"
      }
    },
    {
      "cell_type": "code",
      "source": [
        "mean_x_with_nan= statistics.mean(x_with_nan)\n",
        "print(f\"mean_x_with_nan: {mean_x_with_nan}\")\n",
        "\n",
        "fmean_x_with_nan = statistics.fmean(x_with_nan)\n",
        "print(f\"fmean_x_with_nan: {fmean_x_with_nan}\")\n"
      ],
      "metadata": {
        "id": "jiyIfJH9ytKF"
      },
      "execution_count": null,
      "outputs": []
    },
    {
      "cell_type": "markdown",
      "source": [
        "**Numpy mean**"
      ],
      "metadata": {
        "id": "DFoZg8m5zMv0"
      }
    },
    {
      "cell_type": "code",
      "source": [
        "#y is a numpy array\n",
        "print(f\"np.mean(y): {np.mean(y)}\")\n",
        "\n",
        "#or\n",
        "print(f\"y.mean(): {y.mean()}\")"
      ],
      "metadata": {
        "id": "Pc5e-hrRzM6q"
      },
      "execution_count": null,
      "outputs": []
    },
    {
      "cell_type": "markdown",
      "source": [
        "**Numpy mean with Nan values**"
      ],
      "metadata": {
        "id": "NPdW_EaHz3QL"
      }
    },
    {
      "cell_type": "markdown",
      "source": [
        "Numpy can handle Nan, the nanmean() ignores them"
      ],
      "metadata": {
        "id": "CEVMWmsVz6eS"
      }
    },
    {
      "cell_type": "code",
      "source": [
        "print(f\"np.nanmean(y_with_nan): {np.nanmean(y_with_nan)}\")"
      ],
      "metadata": {
        "id": "YDB98slpz6nX"
      },
      "execution_count": null,
      "outputs": []
    },
    {
      "cell_type": "markdown",
      "source": [
        "**Pandas mean with Nan values**"
      ],
      "metadata": {
        "id": "kJ2mpjdcETKv"
      }
    },
    {
      "cell_type": "code",
      "source": [
        "#z is a Pandas dataframe\n",
        "print(z_with_nan.mean())"
      ],
      "metadata": {
        "id": "KvaFC_1oEYut"
      },
      "execution_count": null,
      "outputs": []
    },
    {
      "cell_type": "markdown",
      "source": [
        "## Weighted Mean<br>\n",
        "The weighted mean, also called the weighted arithmetic mean or weighted average, is a generalization of the arithmetic mean that enables you to define the relative contribution of each data point to the result.<br>\n",
        "\n",
        "It’s convenient (and usually the case) that all weights are nonnegative, 𝑤ᵢ ≥ 0, and that their sum is equal to one, or Σᵢ𝑤ᵢ = 1."
      ],
      "metadata": {
        "id": "BMBJYU5XElIF"
      }
    },
    {
      "cell_type": "markdown",
      "source": [
        "The weighted mean is very handy when you need the mean of a dataset containing items that occur with given relative frequencies.<br>\n",
        "\n",
        "For example, say that you have a dataset:<br>\n",
        " - 20% of all items are equal to 2,\n",
        " - 50% of the items are equal to 4,\n",
        " - the remaining 30% of the items are equal to 8."
      ],
      "metadata": {
        "id": "zd9IqK63E__M"
      }
    },
    {
      "cell_type": "code",
      "source": [
        "#the weight mean of the bove dataset:\n",
        "weighted_mean = 0.2 * 2 + 0.5 * 4 + 0.3 * 8\n",
        "print(weighted_mean)"
      ],
      "metadata": {
        "id": "9GA0oc9BEzC0"
      },
      "execution_count": null,
      "outputs": []
    },
    {
      "cell_type": "markdown",
      "source": [
        "**Pure Python Weighted mean**"
      ],
      "metadata": {
        "id": "fYeiL5EdGWtM"
      }
    },
    {
      "cell_type": "code",
      "source": [
        "x = [8.0, 1, 2.5, 4, 28.0]\n",
        "w = [0.1, 0.2, 0.3, 0.25, 0.15]\n",
        "wmean = sum(w[i] * x[i] for i in range(len(x))) / sum(w)\n",
        "print(wmean)\n",
        "\n",
        "wmean_zip = sum(x_ * w_ for (x_, w_) in zip(x, w)) / sum(w)\n",
        "print(wmean_zip)\n"
      ],
      "metadata": {
        "id": "W1TiYDqXGW13"
      },
      "execution_count": null,
      "outputs": []
    },
    {
      "cell_type": "markdown",
      "source": [
        "**Numpy Weighted Mean**<br>\n"
      ],
      "metadata": {
        "id": "tH8kXYP0Ggdi"
      }
    },
    {
      "cell_type": "code",
      "source": [
        "y, z, w = np.array(x), pd.Series(x), np.array(w)\n",
        "wmean_y = np.average(y, weights=w)\n",
        "print(wmean_y)\n",
        "\n",
        "wmean_z = np.average(z, weights=w)\n",
        "print(wmean_z)"
      ],
      "metadata": {
        "id": "yH1vBsrAGezF"
      },
      "execution_count": null,
      "outputs": []
    },
    {
      "cell_type": "markdown",
      "source": [
        "## Harmonic Mean<br>\n",
        "\n",
        "The harmonic mean is the reciprocal of the mean of the reciprocals of all items in the dataset:<br>\n",
        "> 𝑛 / Σᵢ(1/𝑥ᵢ), where 𝑖 = 1, 2, …, 𝑛 and 𝑛 is the number of items in the dataset 𝑥."
      ],
      "metadata": {
        "id": "nf4-63qTaOFi"
      }
    },
    {
      "cell_type": "code",
      "source": [
        "#x is a list\n",
        "hmean = len(x) / sum(1 / item for item in x)\n",
        "print(hmean)"
      ],
      "metadata": {
        "id": "BhSvZTGpaOQ-"
      },
      "execution_count": null,
      "outputs": []
    },
    {
      "cell_type": "markdown",
      "source": [
        "**Harmonic_mean function<br>**\n",
        " If you have a nan value in a dataset, then it’ll return nan.\n",
        "\n",
        " If there’s at least one 0, then it’ll return 0.\n",
        "\n",
        " If there's at least one negative number, then you’ll get statistics.StatisticsError:"
      ],
      "metadata": {
        "id": "jN1QJQRGbAfN"
      }
    },
    {
      "cell_type": "code",
      "source": [
        "#using the harmonic_mean function\n",
        "hmean = statistics.harmonic_mean(x)\n",
        "print(hmean)"
      ],
      "metadata": {
        "id": "U3hosHQZawUW"
      },
      "execution_count": null,
      "outputs": []
    },
    {
      "cell_type": "code",
      "source": [
        "statistics.harmonic_mean(x_with_nan)\n",
        "\n",
        "statistics.harmonic_mean([1, 0, 2])"
      ],
      "metadata": {
        "id": "7UsoUjbGbRd7"
      },
      "execution_count": null,
      "outputs": []
    },
    {
      "cell_type": "code",
      "source": [
        "statistics.harmonic_mean([1, 2, -2])  # Raises StatisticsError"
      ],
      "metadata": {
        "id": "IqTbPE-dbV--"
      },
      "execution_count": null,
      "outputs": []
    },
    {
      "cell_type": "markdown",
      "source": [
        "**Scipy Harmonic Mean**<br>\n",
        "f your dataset contains nan, 0, a negative number, or anything but positive numbers, then you’ll get a ValueError!\n"
      ],
      "metadata": {
        "id": "RMKFXTLTblVg"
      }
    },
    {
      "cell_type": "code",
      "source": [
        "print(scipy.stats.hmean(y))\n",
        "print(scipy.stats.hmean(z))\n"
      ],
      "metadata": {
        "id": "iOhPttwGbnhk"
      },
      "execution_count": null,
      "outputs": []
    },
    {
      "cell_type": "markdown",
      "source": [
        "## Geometric Mean<br>\n",
        "The geometric mean is the 𝑛-th root of the product of all 𝑛 elements 𝑥ᵢ in a dataset 𝑥: ⁿ√(Πᵢ𝑥ᵢ), where 𝑖 = 1, 2, …, 𝑛."
      ],
      "metadata": {
        "id": "lsjjRcqLb4_1"
      }
    },
    {
      "cell_type": "code",
      "source": [
        "Image(\"means.png\")"
      ],
      "metadata": {
        "id": "q8CVe3Veb5Jw"
      },
      "execution_count": null,
      "outputs": []
    },
    {
      "cell_type": "markdown",
      "source": [
        "The value of the geometric mean, in this case, differs significantly from the values of the arithmetic (8.7) and harmonic (2.76) means for the same dataset x."
      ],
      "metadata": {
        "id": "jadO8diqdyv_"
      }
    },
    {
      "cell_type": "code",
      "source": [
        "gmean = 1\n",
        "for item in x:\n",
        "    gmean *= item\n",
        "\n",
        "gmean **= 1 / len(x)\n",
        "print(gmean)"
      ],
      "metadata": {
        "id": "RuJ_NKLZdjXX"
      },
      "execution_count": null,
      "outputs": []
    },
    {
      "cell_type": "markdown",
      "source": [
        "**The statistics.geometric_mean**<br>\n",
        "\n",
        "This is the same result as in the previous example, but with a minimal rounding error."
      ],
      "metadata": {
        "id": "BFGAR93pd5Pe"
      }
    },
    {
      "cell_type": "code",
      "source": [
        "gmean = statistics.geometric_mean(x)\n",
        "print(gmean)"
      ],
      "metadata": {
        "id": "OuW7eGSAd4a8"
      },
      "execution_count": null,
      "outputs": []
    },
    {
      "cell_type": "markdown",
      "source": [
        "The functions: statistics.mean(), statistics.fmean(), statistics.harmonic_mean(), and geometric_mean behave the same with regards to zeros and negative numbers. If there’s a zero or negative number among your data, then statistics.geometric_mean() will raise the statistics.StatisticsError.\n",
        "\n"
      ],
      "metadata": {
        "id": "F83VvdCNeJjv"
      }
    },
    {
      "cell_type": "code",
      "source": [
        "gmean = statistics.geometric_mean(x_with_nan)\n",
        "print(gmean)"
      ],
      "metadata": {
        "id": "g-UM6zEFeJtV"
      },
      "execution_count": null,
      "outputs": []
    },
    {
      "cell_type": "markdown",
      "source": [
        "**Scipy Stats.gmean**"
      ],
      "metadata": {
        "id": "ygEvEHdbekw8"
      }
    },
    {
      "cell_type": "code",
      "source": [
        "print(scipy.stats.gmean(y))\n",
        "\n",
        "print(scipy.stats.gmean(z))"
      ],
      "metadata": {
        "id": "4GFqhrKuek6M"
      },
      "execution_count": null,
      "outputs": []
    },
    {
      "cell_type": "markdown",
      "source": [
        "## Median<br>\n",
        "\n",
        "The sample median is the middle element of a sorted dataset. <br>\n",
        "The dataset can be sorted in increasing or decreasing order. <br>\n",
        ">If the number of elements 𝑛 of the dataset is odd, then the median is the value at the middle position: 0.5(𝑛 + 1).\n",
        "\n",
        ">If 𝑛 is even, then the median is the arithmetic mean of the two values in the middle, that is, the items at the positions 0.5𝑛 and 0.5𝑛 + 1."
      ],
      "metadata": {
        "id": "OSorJ7n4excK"
      }
    },
    {
      "cell_type": "markdown",
      "source": [
        "The main difference between the behavior of the mean and median is related to dataset outliers or extremes.<br>\n",
        "\n",
        "The mean is heavily affected by outliers, but the median only depends on outliers either slightly or not at all.\n",
        "**bold text**\n"
      ],
      "metadata": {
        "id": "k3Jro_xEfZha"
      }
    },
    {
      "cell_type": "markdown",
      "source": [
        "The upper dataset again has the items 1, 2.5, 4, 8, and 28. Its mean is 8.7, and the median is 5, as you saw earlier. <br>\n",
        "\n",
        "The lower dataset shows what’s going on when you move the rightmost point with the value 28:\n",
        "\n",
        ">**increase its value** (move it to the right), then the mean will rise, but the median value won’t ever change.\n",
        "\n",
        "\n",
        ">**decrease its value** (move it to the left), then the mean will drop, but the median will remain the same until the value of the moving point is greater than or equal to 4."
      ],
      "metadata": {
        "id": "_41txO_KgnKg"
      }
    },
    {
      "cell_type": "markdown",
      "source": [
        "You can compare the mean and median as one way to detect outliers and asymmetry in your data"
      ],
      "metadata": {
        "id": "f8hmsm6dhAUQ"
      }
    },
    {
      "cell_type": "code",
      "source": [
        "Image(\"median&mean.png\")"
      ],
      "metadata": {
        "id": "0MVFKuGaexob"
      },
      "execution_count": null,
      "outputs": []
    },
    {
      "cell_type": "markdown",
      "source": [
        "Two most important steps of this implementation are as follows:<br>\n",
        "\n",
        "1. Sorting the elements of the dataset\n",
        "2. Finding the middle element(s) in the sorted dataset"
      ],
      "metadata": {
        "id": "LaP7HQxRhJMk"
      }
    },
    {
      "cell_type": "code",
      "source": [
        "n = len(x)\n",
        "if n % 2:\n",
        "    median_ = sorted(x)[round(0.5*(n-1))]\n",
        "else:\n",
        "    x_ord, index = sorted(x), round(0.5 * n)\n",
        "    median_ = 0.5 * (x_ord[index-1] + x_ord[index])\n",
        "\n",
        "print(median_)"
      ],
      "metadata": {
        "id": "WkXxiHgqhBh6"
      },
      "execution_count": null,
      "outputs": []
    },
    {
      "cell_type": "markdown",
      "source": [
        "**statistics.median()**<br>\n"
      ],
      "metadata": {
        "id": "amh7CC4UhPfv"
      }
    },
    {
      "cell_type": "code",
      "source": [
        "#The numbers sorted\n",
        "median_ = statistics.median(x)\n",
        "print(median_)\n",
        "\n",
        "#The numbers sorted and the last value is removed\n",
        "median_ = statistics.median(x[:-1])\n",
        "print(median_)\n"
      ],
      "metadata": {
        "id": "j5dUGNePhPon"
      },
      "execution_count": null,
      "outputs": []
    },
    {
      "cell_type": "markdown",
      "source": [
        "**median_low() and median_high()** are two more functions related to the median in the Python statistics library.\n",
        "\n",
        "They always return an element from the dataset:\n",
        "\n",
        "- **If the number of elements is odd**, then there’s a single middle value, so these functions behave just like median().\n",
        "- **If the number of elements is even**, then there are two middle values. In this case, median_low() returns the lower and median_high() the higher middle value.\n",
        "\n",
        "These two functions don’t return nan when there are nan values among the data points.\n"
      ],
      "metadata": {
        "id": "FLzPL9Kzh__f"
      }
    },
    {
      "cell_type": "code",
      "source": [
        "print(statistics.median_low(x[:-1]))\n",
        "\n",
        "print(statistics.median_high(x[:-1]))"
      ],
      "metadata": {
        "id": "Ns2KLW0MiNik"
      },
      "execution_count": null,
      "outputs": []
    },
    {
      "cell_type": "markdown",
      "source": [
        "**Numpy median**<br>\n",
        "\n",
        "If there’s a nan value in your dataset, then np.median() issues the RuntimeWarning and returns nan.<br>\n",
        "\n",
        "If this behavior is not what you want, then you can use nanmedian() to ignore all nan values"
      ],
      "metadata": {
        "id": "EKa-7Ptzi4zV"
      }
    },
    {
      "cell_type": "code",
      "source": [
        "median_ = np.median(y)\n",
        "print(median_)\n",
        "\n",
        "median_ = np.median(y[:-1])\n",
        "print(median_)\n",
        "\n",
        "median_nan=np.nanmedian(y_with_nan)\n",
        "print(median_nan)\n",
        "\n",
        "median_nan=np.nanmedian(y_with_nan[:-1])\n",
        "print(median_nan)"
      ],
      "metadata": {
        "id": "YFgMIexKi8Hz"
      },
      "execution_count": null,
      "outputs": []
    },
    {
      "cell_type": "markdown",
      "source": [
        "**Pandas Median**<br>\n",
        "\n",
        "Pandas has a median built-in function"
      ],
      "metadata": {
        "id": "9fowdXySCNGs"
      }
    },
    {
      "cell_type": "code",
      "source": [
        "median_=z.median()\n",
        "print(median_)\n",
        "\n",
        "median_=z.median(skipna=True)\n",
        "print(median_)\n",
        "\n",
        "median_nan=z_with_nan.median()\n",
        "print(median_nan)"
      ],
      "metadata": {
        "id": "GfJCrY_IB_4b"
      },
      "execution_count": null,
      "outputs": []
    },
    {
      "cell_type": "markdown",
      "source": [
        "## Mode<br>\n",
        "\n",
        "The sample mode is the value in the dataset that occurs most frequently. If there isn’t a single such value, then the set is multimodal since it has multiple modal values."
      ],
      "metadata": {
        "id": "JDPHyx4sDe2N"
      }
    },
    {
      "cell_type": "markdown",
      "source": [
        "Use u.count() to get the number of occurrences of each item in u. The item with the maximal number of occurrences is the mode. Note that you don’t have to use set(u). Instead, you might replace it with just u and iterate over the entire list."
      ],
      "metadata": {
        "id": "XHQe5gzFG7Lr"
      }
    },
    {
      "cell_type": "markdown",
      "source": [
        "set(u) returns a Python set with all unique items in u. You can use this trick to optimize working with larger data, especially when you expect to see a lot of duplicates"
      ],
      "metadata": {
        "id": "l6hCgIqhEQ_1"
      }
    },
    {
      "cell_type": "code",
      "source": [
        "u = [2, 3, 2, 8, 12]\n",
        "mode_ = max((u.count(item), item) for item in set(u))[1]\n",
        "mode_"
      ],
      "metadata": {
        "id": "L-DABxFODncF"
      },
      "execution_count": null,
      "outputs": []
    },
    {
      "cell_type": "code",
      "source": [
        "u = [2, 3, 2, 8, 3, 2, 3, 12]\n",
        "mode_ = max((u.count(item), item) for item in set(u))[1]\n",
        "mode_"
      ],
      "metadata": {
        "id": "f7wvKjPfEgpW"
      },
      "execution_count": null,
      "outputs": []
    },
    {
      "cell_type": "markdown",
      "source": [
        "**Using statistic.mode()**<br>\n",
        "\n",
        "- Mode returns a single value <br>\n",
        "- Multimode returns a list"
      ],
      "metadata": {
        "id": "Y54jsyCHHOc8"
      }
    },
    {
      "cell_type": "code",
      "source": [
        "mode_ = statistics.mode(u)\n",
        "print(mode_)\n",
        "mode_ = statistics.multimode(u)\n",
        "print(mode_)"
      ],
      "metadata": {
        "id": "slTy5jWlHRky"
      },
      "execution_count": null,
      "outputs": []
    },
    {
      "cell_type": "markdown",
      "source": [
        "Notice mode() only returns one value, even for multimode"
      ],
      "metadata": {
        "id": "5yC90VFAIQBt"
      }
    },
    {
      "cell_type": "code",
      "source": [
        "v = [12, 15, 12, 15, 21, 15, 12]\n",
        "mode_=statistics.mode(v)\n",
        "print(mode_)\n",
        "\n",
        "mode_=statistics.multimode(v)\n",
        "print(mode_)"
      ],
      "metadata": {
        "id": "3k4qO8SvH3HK"
      },
      "execution_count": null,
      "outputs": []
    },
    {
      "cell_type": "markdown",
      "source": [
        "**Statistics mode with Nan**<br>\n",
        "\n",
        "If you have Nan values, statistics.mode() and multimode work"
      ],
      "metadata": {
        "id": "C9fJZ5trIbHz"
      }
    },
    {
      "cell_type": "code",
      "source": [
        "mode_nan=statistics.mode([2, math.nan, 2])\n",
        "print(mode_nan)\n",
        "\n",
        "mode_nan=statistics.mode([2, math.nan, 0, math.nan, 5])\n",
        "print(mode_nan)\n",
        "\n",
        "mode_nan=statistics.multimode([2, math.nan, 2])\n",
        "print(mode_nan)\n",
        "\n",
        "mode_nan=statistics.multimode([2, math.nan, 0, math.nan, 5, 2, 5])\n",
        "print(mode_nan)"
      ],
      "metadata": {
        "id": "oKbLi0OQIbe7"
      },
      "execution_count": null,
      "outputs": []
    },
    {
      "cell_type": "markdown",
      "source": [
        "**Scipy.stats.mode()**<br>"
      ],
      "metadata": {
        "id": "uN_IT_iqKhQ0"
      }
    },
    {
      "cell_type": "code",
      "source": [
        "u = [2, 3, 2, 8, 3, 2, 3, 12]\n",
        "v = [12, 15, 12, 15, 21, 15, 12]\n",
        "\n",
        "u, v = np.array(u), np.array(v)\n",
        "mode_ = scipy.stats.mode(u)\n",
        "print(mode_)\n",
        "\n",
        "mode_ = scipy.stats.mode(v)\n",
        "print(mode_)\n"
      ],
      "metadata": {
        "id": "5kK3LEwkKhe0"
      },
      "execution_count": null,
      "outputs": []
    },
    {
      "cell_type": "markdown",
      "source": [
        "**Numpy mode**<br>\n",
        "The code uses .mode to return the smallest mode in the array v and .count to return the number of times it occurs. scipy.stats.mode() is also flexible with nan values."
      ],
      "metadata": {
        "id": "i0PKjQW7hf8F"
      }
    },
    {
      "cell_type": "code",
      "source": [
        "u = [2, 3, 2, 8, 3, 2, 3, 12, 12, 12, 12, 12]\n",
        "v = [12, 15, 12, 15, 21, 15, 12, 12, 12, math.nan]\n",
        "u, v = np.array(u), np.array(v)\n",
        "\n",
        "mode_ = scipy.stats.mode(u)\n",
        "mode_np=mode_.mode\n",
        "print(mode_np)\n",
        "\n",
        "mode_ = scipy.stats.mode(v)\n",
        "mode_np=mode_.count\n",
        "print(mode_np)"
      ],
      "metadata": {
        "id": "-YrcnLJwhgIX"
      },
      "execution_count": null,
      "outputs": []
    },
    {
      "cell_type": "markdown",
      "source": [
        "Pandas mode"
      ],
      "metadata": {
        "id": "TRUKKsWcmcyG"
      }
    },
    {
      "cell_type": "code",
      "source": [
        "u = [2, 3, 2, 8, 3, 2, 3, 2, 2, 2, 12, 12]\n",
        "v = [12, 15, 12, 15, 21, 15, 12, 12, 12, math.nan]\n",
        "w=pd.Series([2, 2, math.nan])\n",
        "u, v = pd.Series(u), pd.Series(v)\n",
        "\n",
        "\n",
        "mode_u=u.mode()\n",
        "print(mode_u)\n",
        "\n",
        "mode_v=v.mode()\n",
        "print(mode_v)\n",
        "\n",
        "mode_w=w.mode()\n",
        "print(mode_w)"
      ],
      "metadata": {
        "id": "tGWIIPLbmc7J"
      },
      "execution_count": null,
      "outputs": []
    },
    {
      "cell_type": "markdown",
      "source": [
        "## Variability<br>\n",
        "\n",
        "The measures of central tendency aren’t sufficient to describe data. <br>\n",
        "\n",
        "You’ll also need the measures of variability that quantify the spread of data points. <br>\n",
        "\n",
        "In this section, you’ll learn how to identify and calculate the following variability measures:<br>\n",
        "\n",
        "- Variance\n",
        "- Standard deviation\n",
        "- Skewness\n",
        "- Percentiles\n",
        "- Ranges"
      ],
      "metadata": {
        "id": "YhE0lqq2nHQo"
      }
    },
    {
      "cell_type": "markdown",
      "source": [
        "**Variance**<br>\n",
        "The sample variance quantifies the spread of the data. It shows numerically how far the data points are from the mean. <BR>\n",
        "\n",
        "Note the two datasets shown below have the same mean and median, even though they appear to differ significantly. Neither the mean nor the median can describe this difference."
      ],
      "metadata": {
        "id": "SVLIJOyguCOx"
      }
    },
    {
      "cell_type": "code",
      "source": [
        "Image(\"VARIABLE.png\")"
      ],
      "metadata": {
        "id": "gvRq-evfnHaf"
      },
      "execution_count": null,
      "outputs": []
    },
    {
      "cell_type": "markdown",
      "source": [
        "**Python Variance**"
      ],
      "metadata": {
        "id": "-3YtW4DSvJIq"
      }
    },
    {
      "cell_type": "code",
      "source": [
        "x = [8.0, 1, 2.5, 4, 28.0]\n",
        "x_with_nan = [8.0, 1, 2.5, math.nan, 4, 28.0]\n",
        "\n",
        "n = len(x)\n",
        "mean_ = sum(x) / n\n",
        "var_ = sum((item - mean_)**2 for item in x) / (n - 1)\n",
        "var_"
      ],
      "metadata": {
        "id": "tw_SlnDGvOnd"
      },
      "execution_count": null,
      "outputs": []
    },
    {
      "cell_type": "code",
      "source": [
        "var_ = statistics.variance(x)\n",
        "var_"
      ],
      "metadata": {
        "id": "YOJ4cQ4CwCu5"
      },
      "execution_count": null,
      "outputs": []
    },
    {
      "cell_type": "markdown",
      "source": [
        "statistics.variance() can avoid calculating the mean if you provide the mean explicitly as the second argument: statistics.variance(x, mean_)."
      ],
      "metadata": {
        "id": "LTHNl2LHwMxL"
      }
    },
    {
      "cell_type": "markdown",
      "source": [
        "An error will occur if you have Nan values in your data."
      ],
      "metadata": {
        "id": "aSosGRxxwXU1"
      }
    },
    {
      "cell_type": "code",
      "source": [
        "statistics.variance(x_with_nan)"
      ],
      "metadata": {
        "id": "q7liIEsHwS1a"
      },
      "execution_count": null,
      "outputs": []
    }
  ]
}