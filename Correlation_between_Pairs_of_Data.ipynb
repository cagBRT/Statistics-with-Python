{
  "nbformat": 4,
  "nbformat_minor": 0,
  "metadata": {
    "colab": {
      "private_outputs": true,
      "provenance": [],
      "authorship_tag": "ABX9TyOAlWN4S5V/PKqQ5//m6s/K",
      "include_colab_link": true
    },
    "kernelspec": {
      "name": "python3",
      "display_name": "Python 3"
    },
    "language_info": {
      "name": "python"
    }
  },
  "cells": [
    {
      "cell_type": "markdown",
      "metadata": {
        "id": "view-in-github",
        "colab_type": "text"
      },
      "source": [
        "<a href=\"https://colab.research.google.com/github/cagBRT/Statistics-with-Python/blob/main/Correlation_between_Pairs_of_Data.ipynb\" target=\"_parent\"><img src=\"https://colab.research.google.com/assets/colab-badge.svg\" alt=\"Open In Colab\"/></a>"
      ]
    },
    {
      "cell_type": "code",
      "source": [
        "# Clone the entire repo.\n",
        "!git clone -l -s https://github.com/cagBRT/Statistics-with-Python.git cloned-repo\n",
        "%cd cloned-repo"
      ],
      "metadata": {
        "id": "0KRPWn0KdFsn"
      },
      "execution_count": null,
      "outputs": []
    },
    {
      "cell_type": "code",
      "source": [
        "from IPython.display import Image"
      ],
      "metadata": {
        "id": "GLfeaZN1qRt3"
      },
      "execution_count": null,
      "outputs": []
    },
    {
      "cell_type": "markdown",
      "source": [
        "# Measures of Correlation Between Pairs of Data\n",
        "You’ll often need to examine the relationship between the corresponding elements of two variables in a dataset."
      ],
      "metadata": {
        "id": "XtazadVPpuLc"
      }
    },
    {
      "cell_type": "markdown",
      "source": [
        "You’ll see the following measures of correlation between pairs of data:<br>\n",
        "\n",
        "- Positive correlation exists when larger values of 𝑥 correspond to larger values of 𝑦 and vice versa.<br>\n",
        "- Negative correlation exists when larger values of 𝑥 correspond to smaller values of 𝑦 and vice versa.<br>\n",
        "- Weak or no correlation exists if there is no such apparent relationship.<br>"
      ],
      "metadata": {
        "id": "xrbt3Gvsp30Z"
      }
    },
    {
      "cell_type": "code",
      "execution_count": null,
      "metadata": {
        "id": "weMyL_KGpkXB"
      },
      "outputs": [],
      "source": [
        "Image(\"Correlation.png\", width=900)"
      ]
    },
    {
      "cell_type": "markdown",
      "source": [
        "## **Correlation is not a measure or indicator of causation**"
      ],
      "metadata": {
        "id": "EJJPoL5Qqw-Y"
      }
    },
    {
      "cell_type": "markdown",
      "source": [
        "**Create some data**"
      ],
      "metadata": {
        "id": "GGh1NegAq0Oe"
      }
    },
    {
      "cell_type": "code",
      "source": [
        "import numpy as np\n",
        "import pandas as pd\n",
        "\n",
        "x = list(range(-10, 11))\n",
        "y = [0, 2, 2, 2, 2, 3, 3, 6, 7, 4, 7, 6, 6, 9, 4, 5, 5, 10, 11, 12, 14]\n",
        "x_, y_ = np.array(x), np.array(y)\n",
        "x__, y__ = pd.Series(x_), pd.Series(y_)"
      ],
      "metadata": {
        "id": "KjIcc2Dcq2yi"
      },
      "execution_count": null,
      "outputs": []
    },
    {
      "cell_type": "markdown",
      "source": [
        "The two statistics that measure the correlation between datasets are <br>\n",
        "- covariance <br>\n",
        "- the correlation coefficient"
      ],
      "metadata": {
        "id": "ZshHelhIopKZ"
      }
    },
    {
      "cell_type": "markdown",
      "source": [
        "**Covariance**<br>\n",
        "First, you have to find the mean of x and y. <br>\n",
        "Then, you apply the mathematical formula for the covariance."
      ],
      "metadata": {
        "id": "My1xB9IQrDT9"
      }
    },
    {
      "cell_type": "code",
      "source": [
        "n = len(x)\n",
        "mean_x = sum(x)/ n\n",
        "mean_y = sum(y)/ n\n",
        "total=0\n",
        "\n",
        "for k in range(n):\n",
        "  total = total+(x[k] - mean_x) * (y[k] - mean_y)\n",
        "cov_xy=total/(n-1)\n",
        "print(cov_xy)"
      ],
      "metadata": {
        "id": "aMSNSNgyrJbY"
      },
      "execution_count": null,
      "outputs": []
    },
    {
      "cell_type": "markdown",
      "source": [
        "You can use the **.cov function**"
      ],
      "metadata": {
        "id": "2xuEVECGeJZk"
      }
    },
    {
      "cell_type": "code",
      "source": [
        "cov_xy = x__.cov(y__)\n",
        "cov_xy\n",
        "\n",
        "cov_xy = y__.cov(x__)\n",
        "cov_xy\n"
      ],
      "metadata": {
        "id": "qBqyXCxVocJ9"
      },
      "execution_count": null,
      "outputs": []
    },
    {
      "cell_type": "markdown",
      "source": [
        "**Cov Matrix**"
      ],
      "metadata": {
        "id": "DTR7afanm-de"
      }
    },
    {
      "cell_type": "code",
      "source": [
        "cov_matrix = np.cov(x_, y_)\n",
        "cov_matrix"
      ],
      "metadata": {
        "id": "ZL6FKKUSrQZA"
      },
      "execution_count": null,
      "outputs": []
    },
    {
      "cell_type": "markdown",
      "source": [
        "Delta Degrees of freedom (ddof)"
      ],
      "metadata": {
        "id": "p8Iqo9bxnU8M"
      }
    },
    {
      "cell_type": "code",
      "source": [
        "x_.var(ddof=1)"
      ],
      "metadata": {
        "id": "9w5w5hP3pJEy"
      },
      "execution_count": null,
      "outputs": []
    },
    {
      "cell_type": "code",
      "source": [
        "y_.var(ddof=1)"
      ],
      "metadata": {
        "id": "6XnSYxvZrfD7"
      },
      "execution_count": null,
      "outputs": []
    },
    {
      "cell_type": "markdown",
      "source": [
        "As you can see, the variances of x and y are equal to<br>\n",
        "  > cov_matrix[0, 0] <br>\n",
        "cov_matrix[1, 1]\n",
        "\n",
        "<br>\n",
        "The other two elements of the covariance matrix are equal and represent the actual covariance between x and y."
      ],
      "metadata": {
        "id": "uqE5fozJsJuM"
      }
    },
    {
      "cell_type": "markdown",
      "source": [
        "**If the correlation is positive**:<br>\n",
        "> then the covariance is positive, as well. <br>\n",
        "A stronger relationship corresponds to a higher value of the covariance.<br>\n",
        "\n",
        "**If the correlation is negative**:\n",
        "> then the covariance is negative, as well.<br>\n",
        " A stronger relationship corresponds to a lower (or higher absolute) value of the covariance.<br>\n",
        "\n",
        "**If the correlation is weak**:\n",
        "> then the covariance is close to zero.<br>"
      ],
      "metadata": {
        "id": "WadLywEFob_C"
      }
    },
    {
      "cell_type": "markdown",
      "source": [
        "## Correlation Coefficient\n",
        "The correlation coefficient, or Pearson product-moment correlation coefficient, is denoted by the symbol 𝑟. The coefficient is another measure of the correlation between data. <br>\n",
        "You can think of it as a standardized covariance. <br>\n",
        "Here are some important facts about it:<br>\n",
        "\n",
        "- The value 𝑟 > 0 indicates positive correlation.<br>\n",
        "- The value 𝑟 < 0 indicates negative correlation.<br>\n",
        "- The value r = 1 is the maximum possible value of 𝑟. It corresponds to a perfect positive linear relationship between variables.<br>\n",
        "- The value r = −1 is the minimum possible value of 𝑟. It corresponds to a perfect negative linear relationship between variables.<br>\n",
        "- The value r ≈ 0, or when 𝑟 is around zero, means that the correlation between variables is weak.<br>"
      ],
      "metadata": {
        "id": "19cve8w2foHH"
      }
    },
    {
      "cell_type": "code",
      "source": [
        "import scipy.stats\n",
        "r, p = scipy.stats.pearsonr(x_, y_)\n",
        "print(r)\n",
        "print(p)"
      ],
      "metadata": {
        "id": "P0c7hL7kfoch"
      },
      "execution_count": null,
      "outputs": []
    },
    {
      "cell_type": "markdown",
      "source": [
        "The **correlation coefficient** matrix is shown below"
      ],
      "metadata": {
        "id": "sDsY4uSykbfe"
      }
    },
    {
      "cell_type": "code",
      "source": [
        "corr_matrix = np.corrcoef(x_, y_)\n",
        "corr_matrix"
      ],
      "metadata": {
        "id": "A4DOXpHSkbqd"
      },
      "execution_count": null,
      "outputs": []
    },
    {
      "cell_type": "markdown",
      "source": [
        "**Linear Regression** returns the slope and y-intercept for the regression line"
      ],
      "metadata": {
        "id": "_-bBMlBLkvLy"
      }
    },
    {
      "cell_type": "code",
      "source": [
        "result = scipy.stats.linregress(x_, y_)\n",
        "print(\"linear regression: \", result)\n",
        "r = result.rvalue\n",
        "print(\"r= \",r)"
      ],
      "metadata": {
        "id": "9HJxTg_TkvW7"
      },
      "execution_count": null,
      "outputs": []
    },
    {
      "cell_type": "markdown",
      "source": [
        "The correlation coefficient"
      ],
      "metadata": {
        "id": "CqJLCF9AllDN"
      }
    },
    {
      "cell_type": "code",
      "source": [
        "r = x__.corr(y__)\n",
        "print(\"r corr(y)\", r)\n",
        "\n",
        "r = y__.corr(x__)\n",
        "print(\"r corr(x)\", r)"
      ],
      "metadata": {
        "id": "i_CMsnEBllNL"
      },
      "execution_count": null,
      "outputs": []
    }
  ]
}