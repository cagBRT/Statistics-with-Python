{
  "nbformat": 4,
  "nbformat_minor": 0,
  "metadata": {
    "colab": {
      "private_outputs": true,
      "provenance": [],
      "authorship_tag": "ABX9TyOzeccJwQAdh4Xeq7TYplyG",
      "include_colab_link": true
    },
    "kernelspec": {
      "name": "python3",
      "display_name": "Python 3"
    },
    "language_info": {
      "name": "python"
    }
  },
  "cells": [
    {
      "cell_type": "markdown",
      "metadata": {
        "id": "view-in-github",
        "colab_type": "text"
      },
      "source": [
        "<a href=\"https://colab.research.google.com/github/cagBRT/Statistics-with-Python/blob/main/Correlation_between_Pairs_of_Data.ipynb\" target=\"_parent\"><img src=\"https://colab.research.google.com/assets/colab-badge.svg\" alt=\"Open In Colab\"/></a>"
      ]
    },
    {
      "cell_type": "code",
      "source": [
        "# Clone the entire repo.\n",
        "!git clone -l -s https://github.com/cagBRT/Statistics-with-Python.git cloned-repo\n",
        "%cd cloned-repo"
      ],
      "metadata": {
        "id": "0KRPWn0KdFsn"
      },
      "execution_count": null,
      "outputs": []
    },
    {
      "cell_type": "code",
      "source": [
        "from IPython.display import Image"
      ],
      "metadata": {
        "id": "GLfeaZN1qRt3"
      },
      "execution_count": null,
      "outputs": []
    },
    {
      "cell_type": "markdown",
      "source": [
        "# Measures of Correlation Between Pairs of Data\n",
        "You’ll often need to examine the relationship between the corresponding elements of two variables in a dataset."
      ],
      "metadata": {
        "id": "XtazadVPpuLc"
      }
    },
    {
      "cell_type": "markdown",
      "source": [
        "You’ll see the following measures of correlation between pairs of data:<br>\n",
        "\n",
        "- Positive correlation exists when larger values of 𝑥 correspond to larger values of 𝑦 and vice versa.<br>\n",
        "- Negative correlation exists when larger values of 𝑥 correspond to smaller values of 𝑦 and vice versa.<br>\n",
        "- Weak or no correlation exists if there is no such apparent relationship.<br>"
      ],
      "metadata": {
        "id": "xrbt3Gvsp30Z"
      }
    },
    {
      "cell_type": "code",
      "execution_count": null,
      "metadata": {
        "id": "weMyL_KGpkXB"
      },
      "outputs": [],
      "source": [
        "Image(\"Correlation.png\", width=900)"
      ]
    },
    {
      "cell_type": "markdown",
      "source": [
        "## **Correlation is not a measure or indicator of causation**"
      ],
      "metadata": {
        "id": "EJJPoL5Qqw-Y"
      }
    },
    {
      "cell_type": "markdown",
      "source": [
        "**Create some data**"
      ],
      "metadata": {
        "id": "GGh1NegAq0Oe"
      }
    },
    {
      "cell_type": "code",
      "source": [
        "import numpy as np\n",
        "import pandas as pd\n",
        "\n",
        "x = list(range(-10, 11))\n",
        "y = [0, 2, 2, 2, 2, 3, 3, 6, 7, 4, 7, 6, 6, 9, 4, 5, 5, 10, 11, 12, 14]\n",
        "x_, y_ = np.array(x), np.array(y)\n",
        "x__, y__ = pd.Series(x_), pd.Series(y_)"
      ],
      "metadata": {
        "id": "KjIcc2Dcq2yi"
      },
      "execution_count": null,
      "outputs": []
    },
    {
      "cell_type": "markdown",
      "source": [
        "The two statistics that measure the correlation between datasets are <br>\n",
        "- covariance <br>\n",
        "- the correlation coefficient"
      ],
      "metadata": {
        "id": "ZshHelhIopKZ"
      }
    },
    {
      "cell_type": "markdown",
      "source": [
        "First, you have to find the mean of x and y. <br>\n",
        "Then, you apply the mathematical formula for the covariance."
      ],
      "metadata": {
        "id": "My1xB9IQrDT9"
      }
    },
    {
      "cell_type": "code",
      "source": [
        "n = len(x)\n",
        "mean_x, mean_y = sum(x) / n, sum(y) / n\n",
        "cov_xy = (sum((x[k] - mean_x) * (y[k] - mean_y) for k in range(n))\n",
        "          / (n - 1))\n",
        "cov_xy"
      ],
      "metadata": {
        "id": "aMSNSNgyrJbY"
      },
      "execution_count": null,
      "outputs": []
    },
    {
      "cell_type": "code",
      "source": [
        "cov_matrix = np.cov(x_, y_)\n",
        "cov_matrix"
      ],
      "metadata": {
        "id": "ZL6FKKUSrQZA"
      },
      "execution_count": null,
      "outputs": []
    },
    {
      "cell_type": "code",
      "source": [
        "x_.var(ddof=1)"
      ],
      "metadata": {
        "id": "9w5w5hP3pJEy"
      },
      "execution_count": null,
      "outputs": []
    },
    {
      "cell_type": "code",
      "source": [
        "y_.var(ddof=1)"
      ],
      "metadata": {
        "id": "6XnSYxvZrfD7"
      },
      "execution_count": null,
      "outputs": []
    },
    {
      "cell_type": "markdown",
      "source": [
        "As you can see, the variances of x and y are equal to<br> cov_matrix[0, 0] <br>\n",
        "cov_matrix[1, 1]"
      ],
      "metadata": {
        "id": "uqE5fozJsJuM"
      }
    },
    {
      "cell_type": "markdown",
      "source": [],
      "metadata": {
        "id": "WadLywEFob_C"
      }
    },
    {
      "cell_type": "code",
      "source": [],
      "metadata": {
        "id": "qBqyXCxVocJ9"
      },
      "execution_count": null,
      "outputs": []
    }
  ]
}