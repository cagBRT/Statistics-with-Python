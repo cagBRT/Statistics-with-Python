{
  "nbformat": 4,
  "nbformat_minor": 0,
  "metadata": {
    "colab": {
      "private_outputs": true,
      "provenance": [],
      "authorship_tag": "ABX9TyMYhpq7pHh4FZ+M8MXa6pPO",
      "include_colab_link": true
    },
    "kernelspec": {
      "name": "python3",
      "display_name": "Python 3"
    },
    "language_info": {
      "name": "python"
    }
  },
  "cells": [
    {
      "cell_type": "markdown",
      "metadata": {
        "id": "view-in-github",
        "colab_type": "text"
      },
      "source": [
        "<a href=\"https://colab.research.google.com/github/cagBRT/Statistics-with-Python/blob/main/Statistics_with_PySpark.ipynb\" target=\"_parent\"><img src=\"https://colab.research.google.com/assets/colab-badge.svg\" alt=\"Open In Colab\"/></a>"
      ]
    },
    {
      "cell_type": "markdown",
      "source": [
        "# Using PySpark to calculate Summary Statistics"
      ],
      "metadata": {
        "id": "StJfv9sxPDuw"
      }
    },
    {
      "cell_type": "code",
      "source": [
        "!pip install pyspark"
      ],
      "metadata": {
        "id": "K9MoGPiJPh-f"
      },
      "execution_count": null,
      "outputs": []
    },
    {
      "cell_type": "code",
      "execution_count": null,
      "metadata": {
        "id": "TO8e3zr4O_Zz"
      },
      "outputs": [],
      "source": [
        "from pyspark.sql import SparkSession\n",
        "spark = SparkSession.builder.getOrCreate()\n",
        "\n",
        "#define data\n",
        "data = [['A', 'East', 11, 4],\n",
        "        ['A', 'East', 8, 9],\n",
        "        ['A', 'East', 10, 3],\n",
        "        ['B', 'West', 6, 12],\n",
        "        ['B', 'West', 6, 4],\n",
        "        ['C', 'East', 5, 2]]\n",
        "\n",
        "#define column names\n",
        "columns = ['team', 'conference', 'points', 'assists']\n",
        "\n",
        "#create dataframe using data and column names\n",
        "df = spark.createDataFrame(data, columns)\n",
        "\n",
        "#view dataframe\n",
        "df.show()"
      ]
    },
    {
      "cell_type": "markdown",
      "source": [
        "**Calculate summary statistics for all columns**"
      ],
      "metadata": {
        "id": "KbBTIZtCyayy"
      }
    },
    {
      "cell_type": "markdown",
      "source": [
        "The output for the summary command is:\n",
        "\n",
        "count: The number of values in the column<br>\n",
        "mean: The mean valuebr>\n",
        "stddev: The standard deviation of values<br>\n",
        "min: The minimum value<br>\n",
        "25%: The 25th percentile <br>\n",
        "50%:The 50th percentile (this is also the median)<br>\n",
        "75%: The 75th percentile<br>\n",
        "max: The max value<br>"
      ],
      "metadata": {
        "id": "6tVQpEpQyqb9"
      }
    },
    {
      "cell_type": "code",
      "source": [
        "df.summary().show()"
      ],
      "metadata": {
        "id": "Mu3hP3lAya9N"
      },
      "execution_count": null,
      "outputs": []
    },
    {
      "cell_type": "markdown",
      "source": [
        "**Summary statistics for numeric columns.**"
      ],
      "metadata": {
        "id": "HcwWn0HkzByX"
      }
    },
    {
      "cell_type": "code",
      "source": [
        "#identify numeric columns in DataFrame\n",
        "numeric_cols = [c for c, t in df.dtypes if t.startswith('string')==False]\n",
        "\n",
        "#calculate summary statistics for only the numeric columns\n",
        "df.select(*numeric_cols).summary().show()"
      ],
      "metadata": {
        "id": "vhEU6RPgzB9E"
      },
      "execution_count": null,
      "outputs": []
    }
  ]
}